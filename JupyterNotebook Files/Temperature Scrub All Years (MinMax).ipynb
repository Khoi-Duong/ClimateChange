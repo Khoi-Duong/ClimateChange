{
 "cells": [
  {
   "cell_type": "markdown",
   "id": "5d5d4b93",
   "metadata": {},
   "source": [
    "# Scrub Global Temperature File\n",
    "### Note: Temperatures are in Celsius"
   ]
  },
  {
   "cell_type": "code",
   "execution_count": 1,
   "id": "687b35ce",
   "metadata": {},
   "outputs": [],
   "source": [
    "# Necessary Imports\n",
    "import pandas as pd\n",
    "import numpy as np\n",
    "import matplotlib.pyplot as plt\n",
    "from sklearn.linear_model import LinearRegression"
   ]
  },
  {
   "cell_type": "code",
   "execution_count": null,
   "id": "1db840a2",
   "metadata": {},
   "outputs": [],
   "source": [
    "# File to Load\n",
    "temp_data_to_load = \"data/GlobalTemperatures.csv\"\n",
    "\n",
    "# Read Temperature Data\n",
    "temp_data = pd.read_csv(temp_data_to_load)\n",
    "temp_data.head()"
   ]
  },
  {
   "cell_type": "code",
   "execution_count": null,
   "id": "776c5c94",
   "metadata": {},
   "outputs": [],
   "source": [
    "# Create a new dataset with only dt, LandAndOceanAverageTemperature, and LandAndOceanAverageTemperatureUncertainty\n",
    "temp_data_1 = temp_data[['dt', 'LandAndOceanAverageTemperature']]\n",
    "\n",
    "# Drop rows with NaN\n",
    "temp_data_2 = temp_data_1.dropna()\n",
    "temp_data_2.head()"
   ]
  },
  {
   "cell_type": "code",
   "execution_count": null,
   "id": "a246e3e5",
   "metadata": {},
   "outputs": [],
   "source": [
    "# Disable the SettingWithCopyWarning warning\n",
    "pd.options.mode.chained_assignment = None\n",
    "# Create a Year Column\n",
    "temp_data_2['Year'] = temp_data_2.dt.str[:4]\n",
    "\n",
    "# Create another temp. column for min or max number\n",
    "temp_data_2['Min Avg Temp'] = temp_data_2['LandAndOceanAverageTemperature']\n",
    "\n",
    "# Convert dt to datetime format\n",
    "temp_data_2['dt'] = pd.to_datetime(temp_data_2['dt'])\n",
    "temp_data_2.head()"
   ]
  },
  {
   "cell_type": "code",
   "execution_count": null,
   "id": "1fef6757",
   "metadata": {},
   "outputs": [],
   "source": [
    "# Group by Year and get average of both numerical columns\n",
    "#temp_data_3 = temp_data_2.groupby('Year').min('Min Avg Temp').max('LandAndOceanAverageTemperature').reset_index()\n",
    "temp_data_3 = temp_data_2.groupby('Year').agg({'Min Avg Temp':'min', 'LandAndOceanAverageTemperature':'max'})[['Min Avg Temp','LandAndOceanAverageTemperature']].reset_index()\n",
    "temp_data_3.rename(columns={'LandAndOceanAverageTemperature':'Max Avg Temp'}, \n",
    "                 inplace=True)\n",
    "temp_data_3.head()"
   ]
  },
  {
   "cell_type": "code",
   "execution_count": null,
   "id": "934848f7",
   "metadata": {},
   "outputs": [],
   "source": [
    "# Save Data to .csv\n",
    "# Save scrubbed file to .csv\n",
    "temp_data_3.to_csv(r'Data/temp_data-AllYears-Min-Max.csv', index = False, header=True)"
   ]
  },
  {
   "cell_type": "code",
   "execution_count": null,
   "id": "5bf49bc4",
   "metadata": {},
   "outputs": [],
   "source": []
  },
  {
   "cell_type": "code",
   "execution_count": null,
   "id": "8553d658",
   "metadata": {},
   "outputs": [],
   "source": []
  },
  {
   "cell_type": "code",
   "execution_count": null,
   "id": "4ea1d1a3",
   "metadata": {},
   "outputs": [],
   "source": []
  },
  {
   "cell_type": "code",
   "execution_count": null,
   "id": "b7bb6201",
   "metadata": {},
   "outputs": [],
   "source": []
  }
 ],
 "metadata": {
  "kernelspec": {
   "display_name": "Python 3 (ipykernel)",
   "language": "python",
   "name": "python3"
  },
  "language_info": {
   "codemirror_mode": {
    "name": "ipython",
    "version": 3
   },
   "file_extension": ".py",
   "mimetype": "text/x-python",
   "name": "python",
   "nbconvert_exporter": "python",
   "pygments_lexer": "ipython3",
   "version": "3.9.13"
  }
 },
 "nbformat": 4,
 "nbformat_minor": 5
}
