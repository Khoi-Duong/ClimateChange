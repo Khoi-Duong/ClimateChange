{
 "cells": [
  {
   "cell_type": "code",
   "execution_count": 1,
   "id": "5ecfd7a8",
   "metadata": {},
   "outputs": [],
   "source": [
    "# Necessary Imports\n",
    "%matplotlib inline\n",
    "\n",
    "import matplotlib.pyplot as plt\n",
    "import numpy as np\n",
    "import pandas as pd\n",
    "from sklearn.model_selection import train_test_split\n",
    "from sklearn.linear_model import LinearRegression\n",
    "from sklearn.metrics import mean_squared_error, r2_score"
   ]
  },
  {
   "cell_type": "code",
   "execution_count": 2,
   "id": "d23f8cf4",
   "metadata": {},
   "outputs": [],
   "source": [
    "# Read CSV Files To DataFrame\n",
    "population_data_df = pd.read_csv(\"../Data/population_data.csv\")\n",
    "concentration_data_df = pd.read_csv(\"../Data/co2_ppm.csv\")"
   ]
  },
  {
   "cell_type": "code",
   "execution_count": 3,
   "id": "0fbba63d",
   "metadata": {},
   "outputs": [
    {
     "data": {
      "text/html": [
       "<div>\n",
       "<style scoped>\n",
       "    .dataframe tbody tr th:only-of-type {\n",
       "        vertical-align: middle;\n",
       "    }\n",
       "\n",
       "    .dataframe tbody tr th {\n",
       "        vertical-align: top;\n",
       "    }\n",
       "\n",
       "    .dataframe thead th {\n",
       "        text-align: right;\n",
       "    }\n",
       "</style>\n",
       "<table border=\"1\" class=\"dataframe\">\n",
       "  <thead>\n",
       "    <tr style=\"text-align: right;\">\n",
       "      <th></th>\n",
       "      <th>population_millions</th>\n",
       "      <th>CO2_concentration_per_million</th>\n",
       "    </tr>\n",
       "  </thead>\n",
       "  <tbody>\n",
       "    <tr>\n",
       "      <th>0</th>\n",
       "      <td>5581597.598</td>\n",
       "      <td>869.636645</td>\n",
       "    </tr>\n",
       "    <tr>\n",
       "      <th>1</th>\n",
       "      <td>5663150.428</td>\n",
       "      <td>863.100924</td>\n",
       "    </tr>\n",
       "    <tr>\n",
       "      <th>2</th>\n",
       "      <td>5744212.930</td>\n",
       "      <td>858.225479</td>\n",
       "    </tr>\n",
       "    <tr>\n",
       "      <th>3</th>\n",
       "      <td>5824891.931</td>\n",
       "      <td>859.062572</td>\n",
       "    </tr>\n",
       "    <tr>\n",
       "      <th>4</th>\n",
       "      <td>5905045.647</td>\n",
       "      <td>867.379574</td>\n",
       "    </tr>\n",
       "    <tr>\n",
       "      <th>5</th>\n",
       "      <td>5984794.075</td>\n",
       "      <td>866.162913</td>\n",
       "    </tr>\n",
       "    <tr>\n",
       "      <th>6</th>\n",
       "      <td>6064239.033</td>\n",
       "      <td>854.147358</td>\n",
       "    </tr>\n",
       "    <tr>\n",
       "      <th>7</th>\n",
       "      <td>6143493.806</td>\n",
       "      <td>878.764146</td>\n",
       "    </tr>\n",
       "    <tr>\n",
       "      <th>8</th>\n",
       "      <td>6222626.531</td>\n",
       "      <td>888.096012</td>\n",
       "    </tr>\n",
       "    <tr>\n",
       "      <th>9</th>\n",
       "      <td>6301773.172</td>\n",
       "      <td>884.272209</td>\n",
       "    </tr>\n",
       "    <tr>\n",
       "      <th>10</th>\n",
       "      <td>6381185.141</td>\n",
       "      <td>907.525692</td>\n",
       "    </tr>\n",
       "    <tr>\n",
       "      <th>11</th>\n",
       "      <td>6461159.391</td>\n",
       "      <td>915.658632</td>\n",
       "    </tr>\n",
       "    <tr>\n",
       "      <th>12</th>\n",
       "      <td>6541906.956</td>\n",
       "      <td>921.000446</td>\n",
       "    </tr>\n",
       "    <tr>\n",
       "      <th>13</th>\n",
       "      <td>6623517.917</td>\n",
       "      <td>933.068635</td>\n",
       "    </tr>\n",
       "    <tr>\n",
       "      <th>14</th>\n",
       "      <td>6705946.643</td>\n",
       "      <td>944.312222</td>\n",
       "    </tr>\n",
       "    <tr>\n",
       "      <th>15</th>\n",
       "      <td>6789088.672</td>\n",
       "      <td>943.559582</td>\n",
       "    </tr>\n",
       "    <tr>\n",
       "      <th>16</th>\n",
       "      <td>6872766.988</td>\n",
       "      <td>898.608885</td>\n",
       "    </tr>\n",
       "    <tr>\n",
       "      <th>17</th>\n",
       "      <td>6956823.588</td>\n",
       "      <td>916.898995</td>\n",
       "    </tr>\n",
       "    <tr>\n",
       "      <th>18</th>\n",
       "      <td>7041194.168</td>\n",
       "      <td>907.572218</td>\n",
       "    </tr>\n",
       "    <tr>\n",
       "      <th>19</th>\n",
       "      <td>7125827.957</td>\n",
       "      <td>907.679408</td>\n",
       "    </tr>\n",
       "    <tr>\n",
       "      <th>20</th>\n",
       "      <td>7210582.041</td>\n",
       "      <td>893.012832</td>\n",
       "    </tr>\n",
       "    <tr>\n",
       "      <th>21</th>\n",
       "      <td>7295290.759</td>\n",
       "      <td>890.230156</td>\n",
       "    </tr>\n",
       "    <tr>\n",
       "      <th>22</th>\n",
       "      <td>7379796.967</td>\n",
       "      <td>901.399532</td>\n",
       "    </tr>\n",
       "  </tbody>\n",
       "</table>\n",
       "</div>"
      ],
      "text/plain": [
       "    population_millions  CO2_concentration_per_million\n",
       "0           5581597.598                     869.636645\n",
       "1           5663150.428                     863.100924\n",
       "2           5744212.930                     858.225479\n",
       "3           5824891.931                     859.062572\n",
       "4           5905045.647                     867.379574\n",
       "5           5984794.075                     866.162913\n",
       "6           6064239.033                     854.147358\n",
       "7           6143493.806                     878.764146\n",
       "8           6222626.531                     888.096012\n",
       "9           6301773.172                     884.272209\n",
       "10          6381185.141                     907.525692\n",
       "11          6461159.391                     915.658632\n",
       "12          6541906.956                     921.000446\n",
       "13          6623517.917                     933.068635\n",
       "14          6705946.643                     944.312222\n",
       "15          6789088.672                     943.559582\n",
       "16          6872766.988                     898.608885\n",
       "17          6956823.588                     916.898995\n",
       "18          7041194.168                     907.572218\n",
       "19          7125827.957                     907.679408\n",
       "20          7210582.041                     893.012832\n",
       "21          7295290.759                     890.230156\n",
       "22          7379796.967                     901.399532"
      ]
     },
     "execution_count": 3,
     "metadata": {},
     "output_type": "execute_result"
    }
   ],
   "source": [
    "# Merge Datasets\n",
    "merged_table = pd.merge(population_data_df, concentration_data_df, on = \"Year\", how = \"left\")\n",
    "population_concentration_df = merged_table[[\"population_millions\", \"CO2_concentration_per_million\"]]\n",
    "population_concentration_df"
   ]
  },
  {
   "cell_type": "code",
   "execution_count": 4,
   "id": "7dac51d4",
   "metadata": {},
   "outputs": [
    {
     "name": "stdout",
     "output_type": "stream",
     "text": [
      "Shape:  (23, 1) (23, 1)\n"
     ]
    }
   ],
   "source": [
    "X = population_concentration_df.population_millions.values.reshape(-1, 1)\n",
    "y = population_concentration_df.CO2_concentration_per_million.values.reshape(-1, 1)\n",
    "print(\"Shape: \", X.shape, y.shape)"
   ]
  },
  {
   "cell_type": "code",
   "execution_count": 5,
   "id": "efcd05bf",
   "metadata": {},
   "outputs": [
    {
     "data": {
      "image/png": "[encoded data removed]",
      "text/plain": [
       "<Figure size 640x480 with 1 Axes>"
      ]
     },
     "metadata": {},
     "output_type": "display_data"
    }
   ],
   "source": [
    "plt.scatter(X, y) \n",
    "plt.xlabel(\"Population In Millions\")\n",
    "plt.ylabel(\"CO2 (Parts Per Million)\")\n",
    "plt.savefig(\"../Images/PopulationToCO2Scatter.png\")"
   ]
  },
  {
   "cell_type": "code",
   "execution_count": 6,
   "id": "32314437",
   "metadata": {},
   "outputs": [],
   "source": [
    "X_train, X_test, y_train, y_test = train_test_split(X, y, random_state=42)"
   ]
  },
  {
   "cell_type": "code",
   "execution_count": 7,
   "id": "b0435b81",
   "metadata": {},
   "outputs": [],
   "source": [
    "model = LinearRegression()"
   ]
  },
  {
   "cell_type": "code",
   "execution_count": 8,
   "id": "895fcfec",
   "metadata": {},
   "outputs": [
    {
     "data": {
      "text/plain": [
       "LinearRegression()"
      ]
     },
     "execution_count": 8,
     "metadata": {},
     "output_type": "execute_result"
    }
   ],
   "source": [
    "model.fit(X_train, y_train)"
   ]
  },
  {
   "cell_type": "code",
   "execution_count": 9,
   "id": "fbf1c6da",
   "metadata": {},
   "outputs": [],
   "source": [
    "predicted = model.predict(X_test)"
   ]
  },
  {
   "cell_type": "code",
   "execution_count": 10,
   "id": "4274904c",
   "metadata": {},
   "outputs": [
    {
     "name": "stdout",
     "output_type": "stream",
     "text": [
      "Weight coefficients:  [[2.96821972e-05]]\n",
      "y-axis intercept:  [698.12896131]\n"
     ]
    }
   ],
   "source": [
    "print(\"Weight coefficients: \", model.coef_)\n",
    "print(\"y-axis intercept: \", model.intercept_) "
   ]
  },
  {
   "cell_type": "code",
   "execution_count": 11,
   "id": "2725ab56",
   "metadata": {},
   "outputs": [
    {
     "name": "stdout",
     "output_type": "stream",
     "text": [
      "Min X Value: [[5581597.598]]\n",
      "Max X Value: [[7379796.967]]\n"
     ]
    }
   ],
   "source": [
    "x_min = np.array([[X.min()]])\n",
    "x_max = np.array([[X.max()]])\n",
    "\n",
    "print(f\"Min X Value: {x_min}\")\n",
    "print(f\"Max X Value: {x_max}\")"
   ]
  },
  {
   "cell_type": "code",
   "execution_count": 12,
   "id": "155a59a2",
   "metadata": {},
   "outputs": [],
   "source": [
    "# Calculate Predicted y_min & y_max\n",
    "y_min = model.predict(x_min)\n",
    "y_max = model.predict(x_max)"
   ]
  },
  {
   "cell_type": "code",
   "execution_count": 13,
   "id": "157be1fc",
   "metadata": {},
   "outputs": [
    {
     "data": {
      "image/png": "[encoded data removed]",
      "text/plain": [
       "<Figure size 640x480 with 1 Axes>"
      ]
     },
     "metadata": {},
     "output_type": "display_data"
    }
   ],
   "source": [
    "# Plot\n",
    "plt.scatter(X, y, c = \"blue\")\n",
    "plt.plot([x_min[0], x_max[0]], [y_min[0], y_max[0]], c = \"red\")\n",
    "plt.title(\"Population (Millions) To CO2 Emissions (PPM)\")\n",
    "plt.xlabel(\"Population (Millions)\")\n",
    "plt.ylabel(\"CO2 (Parts Per Million)\")\n",
    "plt.savefig(\"../Images/PopulationToCO2.png\")"
   ]
  },
  {
   "cell_type": "code",
   "execution_count": 14,
   "id": "29907cb6",
   "metadata": {},
   "outputs": [
    {
     "name": "stdout",
     "output_type": "stream",
     "text": [
      "True Output: [869.63664471]\n",
      "Predicted Output: [863.80304201]\n",
      "Prediction Error: [-5.8336027]\n"
     ]
    }
   ],
   "source": [
    "# Predictions\n",
    "predictions = model.predict(X)\n",
    "\n",
    "print(f\"True Output: {y[0]}\")\n",
    "print(f\"Predicted Output: {predictions[0]}\")\n",
    "print(f\"Prediction Error: {predictions[0] - y[0]}\")"
   ]
  },
  {
   "cell_type": "code",
   "execution_count": 15,
   "id": "c912be94",
   "metadata": {},
   "outputs": [
    {
     "name": "stdout",
     "output_type": "stream",
     "text": [
      "Mean Squared Error: 494.1950617229251\n",
      "R2: 0.22847813688311958\n"
     ]
    }
   ],
   "source": [
    "# Mean Squared Error & R2\n",
    "mse = mean_squared_error(y_test, predicted)\n",
    "r2 = r2_score(y_test, predicted)\n",
    "\n",
    "print(f\"Mean Squared Error: {mse}\")\n",
    "print(f\"R2: {r2}\")"
   ]
  }
 ],
 "metadata": {
  "kernelspec": {
   "display_name": "Python 3 (ipykernel)",
   "language": "python",
   "name": "python3"
  },
  "language_info": {
   "codemirror_mode": {
    "name": "ipython",
    "version": 3
   },
   "file_extension": ".py",
   "mimetype": "text/x-python",
   "name": "python",
   "nbconvert_exporter": "python",
   "pygments_lexer": "ipython3",
   "version": "3.9.13"
  }
 },
 "nbformat": 4,
 "nbformat_minor": 5
}
