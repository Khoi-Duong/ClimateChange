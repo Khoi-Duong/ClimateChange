{
 "cells": [
  {
   "cell_type": "markdown",
   "id": "8acfafa4",
   "metadata": {},
   "source": [
    "# Sea Level Data Scrub and Linear Regression\n",
    "* This Takes the original Source data from NASA and creates a text file that can be used by the other members on the team for correlation analysis.\n",
    "* Visualizations show the initial scrub of the full data and the scrub of the grouped data (when looking at the full data the sea level is rising grouped and only limited to 2015 the picture looks like sea level is dropping)"
   ]
  },
  {
   "cell_type": "code",
   "execution_count": null,
   "id": "04ff3e98",
   "metadata": {},
   "outputs": [],
   "source": [
    "# Necessary Imports \n",
    "%matplotlib inline \n",
    "\n",
    "import requests \n",
    "import numpy as np\n",
    "import pandas as pd\n",
    "import matplotlib.pyplot as plt\n",
    "import numpy.linalg as lin\n",
    "from datetime import timedelta, datetime\n",
    "from sklearn.svm import SVR\n",
    "from sklearn.model_selection import GridSearchCV\n",
    "from datetime import timedelta, datetime\n",
    "from sklearn.linear_model import LinearRegression\n",
    "from io import StringIO"
   ]
  },
  {
   "cell_type": "code",
   "execution_count": null,
   "id": "72cbdacc",
   "metadata": {},
   "outputs": [],
   "source": [
    "sea_data = pd.read_csv('data/GMSL_merged_nasa_1993_2020.csv')\n",
    "# sea_data \n",
    "sea_data.head(5)\n",
    "\n",
    "# sea_level = sea_data['GMSL'].values\n",
    "# sea_level"
   ]
  },
  {
   "cell_type": "code",
   "execution_count": null,
   "id": "0c4a5b89",
   "metadata": {},
   "outputs": [],
   "source": [
    "#conversion formula for Converting year fractions aka year decimals into datetimes\n",
    "def convert_partial_year(number):\n",
    "    year = int(number)\n",
    "    d = timedelta(days = (number - year) * 365.25)\n",
    "    day_one = datetime(year, 1, 1)\n",
    "    date = d + day_one\n",
    "    return date"
   ]
  },
  {
   "cell_type": "code",
   "execution_count": null,
   "id": "3728aba0",
   "metadata": {},
   "outputs": [],
   "source": [
    "#Get Results\n",
    "sea_data['date'] = sea_data['year_fraction'].apply(convert_partial_year)\n",
    "#sea_data\n",
    "\n",
    "#Drop the unused column\n",
    "sea_data_1 = sea_data.drop(['year_fraction'], axis=1)\n",
    "sea_data_1 "
   ]
  },
  {
   "cell_type": "code",
   "execution_count": null,
   "id": "110a3e49",
   "metadata": {},
   "outputs": [],
   "source": [
    "#Get the Year\n",
    "sea_data_1['year'] = sea_data_1['date'].apply(lambda x: x.year)\n",
    "#sea_data_1\n",
    "\n",
    "#Drop unused date\n",
    "sea_data_2 = sea_data_1.drop(['date'], axis=1)\n",
    "sea_data_2\n",
    "\n",
    "# Re-order Columns\n",
    "sea_data_2 = sea_data_2[['year', 'gmsl']]\n",
    "sea_data_2.tail(5) "
   ]
  },
  {
   "cell_type": "code",
   "execution_count": null,
   "id": "f6ff53a0",
   "metadata": {},
   "outputs": [],
   "source": [
    "#Rename Columns \n",
    "sea_data_2.columns = ['Year', 'GMSL']\n",
    "sea_data_2\n",
    "\n",
    "#Dropping off outliers index row 9 for 1993 , 2018 945-953 and for 2019 remove 980-993\n",
    "# sea_data_drop = sea_data_2.drop(sea_data_2.index[9])\n",
    "# sea_data_drop\n",
    "\n",
    "# #Drop the 2018 945-953\n",
    "# sea_data_3 = sea_data_drop.drop(sea_data_drop.index[944:953])\n",
    "# sea_data_3.head(5)"
   ]
  },
  {
   "cell_type": "code",
   "execution_count": null,
   "id": "c6249b53",
   "metadata": {},
   "outputs": [],
   "source": [
    "#Group by and reset index \n",
    "# Drop everything after 2015 \n",
    "#Find average gmsl after grouping \n",
    "\n",
    "sea_data_3 = sea_data_2.groupby('Year')['GMSL'].mean()\n",
    "sea_data_3.reset_index()\n",
    "\n",
    "#Drop everything after 2015\n",
    "sea_data_4 = sea_data_3.drop(sea_data_3.index[23:28])"
   ]
  },
  {
   "cell_type": "code",
   "execution_count": null,
   "id": "a3c48eed",
   "metadata": {},
   "outputs": [],
   "source": [
    "#Data \n",
    "data = sea_data_3.reset_index() # load data set  \n",
    "X = data.iloc[:, 0].values.reshape(-1, 1)  # values converts it into a numpy array\n",
    "Y = data.iloc[:, 1].values.reshape(-1, 1)  # -1 means that calculate the dimension of rows, but have 1 column\n",
    "linear_regressor = LinearRegression()  # create object for the class\n",
    "linear_regressor.fit(X, Y)  # perform linear regression\n",
    "Y_pred = linear_regressor.predict(X)  # make predictions"
   ]
  },
  {
   "cell_type": "code",
   "execution_count": null,
   "id": "7c4343b9",
   "metadata": {},
   "outputs": [],
   "source": [
    "#Plot \n",
    "plt.scatter(X, Y)\n",
    "plt.plot(X, Y_pred, color='red')\n",
    "plt.xlabel('Years')\n",
    "plt.ylabel('Global Mean Sea Level (GMSL) in (mm)')\n",
    "plt.title('Sea Level over Time (in mm)')\n",
    "#Save it\n",
    "plt.savefig('images/sealevel_scrub_fig1.png')"
   ]
  },
  {
   "cell_type": "code",
   "execution_count": null,
   "id": "66cde146",
   "metadata": {},
   "outputs": [],
   "source": [
    "#Reset Index \n",
    "sea_level_data = sea_data_4.reset_index()\n",
    "sea_level_data"
   ]
  },
  {
   "cell_type": "code",
   "execution_count": null,
   "id": "968e1150",
   "metadata": {},
   "outputs": [],
   "source": [
    "#Data \n",
    "data = sea_level_data # load data set  \n",
    "X = data.iloc[:, 0].values.reshape(-1, 1)  # values converts it into a numpy array\n",
    "Y = data.iloc[:, 1].values.reshape(-1, 1)  # -1 means that calculate the dimension of rows, but have 1 column\n",
    "linear_regressor = LinearRegression()  # create object for the class\n",
    "linear_regressor.fit(X, Y)  # perform linear regression\n",
    "Y_pred = linear_regressor.predict(X)  # make predictions"
   ]
  },
  {
   "cell_type": "code",
   "execution_count": null,
   "id": "57dbfe7b",
   "metadata": {},
   "outputs": [],
   "source": [
    "#Plot \n",
    "plt.scatter(X, Y)\n",
    "plt.plot(X, Y_pred, color='red')\n",
    "plt.xlabel('Years')\n",
    "plt.ylabel('Global Mean Sea Level (GMSL) in (mm)')\n",
    "plt.title('Sea Level over Time (in mm)')\n",
    "\n",
    "\n",
    "#Save it\n",
    "plt.savefig('images/sealevel_scrub_fig2.png')"
   ]
  },
  {
   "cell_type": "markdown",
   "id": "c6df09ad",
   "metadata": {},
   "source": [
    "The sea level from 1993 - 2015 has some outliers and I decided to keep the outliers pending furthe research.\n",
    "\n",
    "The GMSL is a 1-dimensional time series of globally averaged Sea Surface Height Anomalies (SSHA) from TOPEX/Poseidon, Jason-1, OSTM/Jason-2 and Jason-3. It starts in September 1992 to present, with a lag of up to 4 months. All biases and cross-calibrations have been applied to the data so SSHA are consistent between satellites. Data are reported as changes relative to January 1, 1993 and are 2-month averages. Glacial Isostatic Adjustment (GIA) has been applied. These data are available in ASCII format. Reference: Beckley et al., 2017,\n",
    "\n",
    "This is the “uncertainty margin,” or the range from the mean (average) within which there is a high probability that the true number resides. For example, when we say that global mean sea level for a particular month is 50mm +/- 4 mm, the true value for that month has a high probability of being between 46 and 54 mm. The uncertainty margin exists both because of sea level variability (sea level above the first point in the time series) in the ocean and the accuracy with which we measure the individual values. https://sealevel.nasa.gov/understanding-sea-level/key-indicators/global-mean-sea-level/ Source: https://podaac-tools.jpl.nasa.gov/drive/files/allData/merged_alt/L2/TP_J1_OSTM/global_mean_sea_level/GMSL_TPJAOS_4.2_199209_202001.txt"
   ]
  },
  {
   "cell_type": "code",
   "execution_count": null,
   "id": "a558f2a6",
   "metadata": {},
   "outputs": [],
   "source": [
    "#To make a sea level data that can be used for the rest of the team in consolidating the data. \n",
    "sea_level_data.to_csv(\"data/sealevel_data.csv\", index = False, header = True)"
   ]
  }
 ],
 "metadata": {
  "kernelspec": {
   "display_name": "Python 3 (ipykernel)",
   "language": "python",
   "name": "python3"
  },
  "language_info": {
   "codemirror_mode": {
    "name": "ipython",
    "version": 3
   },
   "file_extension": ".py",
   "mimetype": "text/x-python",
   "name": "python",
   "nbconvert_exporter": "python",
   "pygments_lexer": "ipython3",
   "version": "3.9.13"
  }
 },
 "nbformat": 4,
 "nbformat_minor": 5
}
