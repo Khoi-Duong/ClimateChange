{
 "cells": [
  {
   "cell_type": "code",
   "execution_count": null,
   "id": "1fb24c6f",
   "metadata": {},
   "outputs": [],
   "source": [
    "# Necessary Imports\n",
    "%matplotlib inline\n",
    "\n",
    "import pandas as pd  \n",
    "import numpy as np  \n",
    "import matplotlib.pyplot as plt  \n",
    "import seaborn as seabornInstance \n",
    "from sklearn.model_selection import train_test_split \n",
    "from sklearn.linear_model import LinearRegression\n",
    "from sklearn import metrics"
   ]
  },
  {
   "cell_type": "code",
   "execution_count": null,
   "id": "58f79e46",
   "metadata": {},
   "outputs": [],
   "source": [
    "dataset = pd.read_csv('Data/temp_data-AllYears-Min-Max.csv')\n",
    "dataset.head()"
   ]
  },
  {
   "cell_type": "code",
   "execution_count": null,
   "id": "c893f9df",
   "metadata": {},
   "outputs": [],
   "source": [
    "# Let X be world population and y be global average yearly temperature, then Reshape X and y\n",
    "X = dataset['Min Avg Temp'].values.reshape(-1,1)\n",
    "y = dataset['Max Avg Temp'].values.reshape(-1,1)"
   ]
  },
  {
   "cell_type": "code",
   "execution_count": null,
   "id": "917641a4",
   "metadata": {},
   "outputs": [],
   "source": [
    "# split the train - test data to be 80% train, 20% test\n",
    "X_train, X_test, y_train, y_test = train_test_split(X, y, test_size=0.2, random_state=0)"
   ]
  },
  {
   "cell_type": "code",
   "execution_count": null,
   "id": "ccd1da99",
   "metadata": {},
   "outputs": [],
   "source": [
    "# Train the algorithm using a linear regression\n",
    "regressor = LinearRegression()  \n",
    "regressor.fit(X_train, y_train)"
   ]
  },
  {
   "cell_type": "code",
   "execution_count": null,
   "id": "70adb39a",
   "metadata": {},
   "outputs": [],
   "source": [
    "#To retrieve the intercept:\n",
    "print(\"The y intercept is:  \", regressor.intercept_)\n",
    "#For retrieving the slope:\n",
    "print(\"The slope is:  \", regressor.coef_)"
   ]
  },
  {
   "cell_type": "code",
   "execution_count": null,
   "id": "48495c08",
   "metadata": {},
   "outputs": [],
   "source": [
    "# Make predictions\n",
    "y_pred = regressor.predict(X_test)"
   ]
  },
  {
   "cell_type": "code",
   "execution_count": null,
   "id": "769ec6a8",
   "metadata": {},
   "outputs": [],
   "source": [
    "# Compare actual to predicted values\n",
    "df = pd.DataFrame({'Actual': y_test.flatten(), 'Predicted': y_pred.flatten(), \"Error\": y_pred.flatten() - y_test.flatten()})\n",
    "# pd.DataFrame({\"Predicted\": predictions, \"Actual\": y, \"Error\": predictions - y})[[\"Predicted\", \"Actual\", \"Error\"]]\n",
    "df"
   ]
  },
  {
   "cell_type": "code",
   "execution_count": null,
   "id": "5234905f",
   "metadata": {},
   "outputs": [],
   "source": [
    "# Create a bar chart to show comparison between actual and predicted\n",
    "df1 = df.head(23)\n",
    "df1.plot(kind='bar',figsize=(16,10))\n",
    "plt.grid(which='major', linestyle='-', linewidth='0.5', color='green')\n",
    "plt.grid(which='minor', linestyle=':', linewidth='0.5', color='black')\n",
    "plt.show()"
   ]
  },
  {
   "cell_type": "code",
   "execution_count": null,
   "id": "698ab1f0",
   "metadata": {},
   "outputs": [],
   "source": [
    "# Plot our straight line with the test data\n",
    "plt.scatter(X_test, y_test,  color='gray')\n",
    "plt.plot(X_test, y_pred, color='red', linewidth=2)\n",
    "plt.xlabel(\"Minimum Temperature (C)\")\n",
    "plt.ylabel(\"Maximum Temperature (C)\")\n",
    "plt.title(\"Scatter Plot of Test Data Minimum to Maximum Temperature \\n\")\n",
    "fig1 = plt.gcf()\n",
    "fig1.savefig('images/MinMax_Temp_scatter_test.png', bbox_inches='tight')"
   ]
  },
  {
   "cell_type": "code",
   "execution_count": null,
   "id": "64e8f9e7",
   "metadata": {},
   "outputs": [],
   "source": [
    "# Calculate margin or error\n",
    "print('Mean Absolute Error:', metrics.mean_absolute_error(y_test, y_pred))  \n",
    "print('Mean Squared Error:', metrics.mean_squared_error(y_test, y_pred))  \n",
    "print('Root Mean Squared Error:', np.sqrt(metrics.mean_squared_error(y_test, y_pred)))"
   ]
  },
  {
   "cell_type": "code",
   "execution_count": null,
   "id": "8de52e9c",
   "metadata": {},
   "outputs": [],
   "source": [
    "x_min = X.min()\n",
    "x_max = X.max()\n",
    "print(\"Min/Max X values (Year)\", x_min, x_max)"
   ]
  },
  {
   "cell_type": "code",
   "execution_count": null,
   "id": "04475cde",
   "metadata": {},
   "outputs": [],
   "source": [
    "# Get y (temperature min and max actuals)\n",
    "y_min_actual = y.min()\n",
    "y_max_actual = y.max()\n",
    "print(\"Min/Max Y values (Temperature)\", y_min_actual, y_max_actual)"
   ]
  },
  {
   "cell_type": "code",
   "execution_count": null,
   "id": "1d45a1bf",
   "metadata": {},
   "outputs": [],
   "source": [
    "# The y intercept is:   [8.25909715]\n",
    "# The slope is:   [[0.64427629]]\n",
    "y_min = 8.25909715 + 0.64427629 * x_min\n",
    "y_max = 8.25909715 + 0.64427629 * x_max\n",
    "print(f\"Actual Smallest Max Value: {y_min_actual}\")\n",
    "print(f\"Calculated Smallest Max Value: {y_min}\")\n",
    "print(f\"Actual Largest Max Value: {y_max_actual}\")\n",
    "print(f\"Calculated Largest Max Value: {y_max}\")"
   ]
  },
  {
   "cell_type": "code",
   "execution_count": null,
   "id": "27753021",
   "metadata": {},
   "outputs": [],
   "source": [
    "# Predict calculated values\n",
    "y_min_predicted = regressor.predict([[x_min]])\n",
    "y_max_predicted = regressor.predict([[x_max]])\n",
    "print(f\"Actual Smallest Max Value: {y_min_actual}\")\n",
    "print(f\"Predicted Smallest Max Value: {y_min_predicted}\")\n",
    "print(f\"Actual Largest Max Value: {y_max_actual}\")\n",
    "print(f\"Predicted Largest Max Value: {y_max_predicted}\")"
   ]
  },
  {
   "cell_type": "code",
   "execution_count": null,
   "id": "58afe8ea",
   "metadata": {},
   "outputs": [],
   "source": [
    "# Plot\n",
    "plt.scatter(X, y, c='blue')\n",
    "plt.plot([x_min, x_max], [y_min, y_max], c='red')\n",
    "plt.xticks(rotation=45)\n",
    "plt.xlabel(\"Minimum Average Annual Temperature\")\n",
    "plt.ylabel(\"Maximum Average Annual Temperature\")\n",
    "plt.title('Minimum vs. Maximum Average Values (in Celsius)')\n",
    "fig2 = plt.gcf()\n",
    "fig2.savefig('images/Min_vs_Max_Temp.png', bbox_inches='tight')"
   ]
  },
  {
   "cell_type": "markdown",
   "id": "9c2307e7",
   "metadata": {},
   "source": [
    "## Plugging in the Numbers:\n",
    "### Average Global Temperature  =  slope  *  CO2  +  y-intercept\n",
    "### Slope = 0.00327157\n",
    "### Y-Yntercept = 12.82624641\n",
    "### Global Temp. Above 1.5 Degrees C From 1850 Average Global Temperature = 16.37\n",
    "### Population = (16.37 - 12.82624641)/0.00327157\n",
    "### CO2 = 1083.19662731\n",
    "### Mean Squared Error: 0.010940654807335687"
   ]
  },
  {
   "cell_type": "code",
   "execution_count": null,
   "id": "f87c0b66",
   "metadata": {},
   "outputs": [],
   "source": []
  }
 ],
 "metadata": {
  "kernelspec": {
   "display_name": "Python 3 (ipykernel)",
   "language": "python",
   "name": "python3"
  },
  "language_info": {
   "codemirror_mode": {
    "name": "ipython",
    "version": 3
   },
   "file_extension": ".py",
   "mimetype": "text/x-python",
   "name": "python",
   "nbconvert_exporter": "python",
   "pygments_lexer": "ipython3",
   "version": "3.9.13"
  }
 },
 "nbformat": 4,
 "nbformat_minor": 5
}
