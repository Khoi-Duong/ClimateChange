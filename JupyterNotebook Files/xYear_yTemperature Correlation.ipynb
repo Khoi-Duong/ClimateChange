{
 "cells": [
  {
   "cell_type": "code",
   "execution_count": 1,
   "id": "92903937",
   "metadata": {},
   "outputs": [],
   "source": [
    "# Necessary Imports\n",
    "%matplotlib inline\n",
    "\n",
    "import pandas as pd  \n",
    "import numpy as np  \n",
    "import matplotlib.pyplot as plt  \n",
    "import seaborn as seabornInstance \n",
    "from sklearn.model_selection import train_test_split \n",
    "from sklearn.linear_model import LinearRegression\n",
    "from sklearn import metrics"
   ]
  },
  {
   "cell_type": "code",
   "execution_count": 2,
   "id": "18f37737",
   "metadata": {},
   "outputs": [
    {
     "data": {
      "text/html": [
       "<div>\n",
       "<style scoped>\n",
       "    .dataframe tbody tr th:only-of-type {\n",
       "        vertical-align: middle;\n",
       "    }\n",
       "\n",
       "    .dataframe tbody tr th {\n",
       "        vertical-align: top;\n",
       "    }\n",
       "\n",
       "    .dataframe thead th {\n",
       "        text-align: right;\n",
       "    }\n",
       "</style>\n",
       "<table border=\"1\" class=\"dataframe\">\n",
       "  <thead>\n",
       "    <tr style=\"text-align: right;\">\n",
       "      <th></th>\n",
       "      <th>Year</th>\n",
       "      <th>LandAndOceanAverageTemperature</th>\n",
       "      <th>LandAndOceanAverageTemperatureUncertainty</th>\n",
       "    </tr>\n",
       "  </thead>\n",
       "  <tbody>\n",
       "    <tr>\n",
       "      <th>0</th>\n",
       "      <td>1850</td>\n",
       "      <td>14.867167</td>\n",
       "      <td>0.308167</td>\n",
       "    </tr>\n",
       "    <tr>\n",
       "      <th>1</th>\n",
       "      <td>1851</td>\n",
       "      <td>14.991833</td>\n",
       "      <td>0.312083</td>\n",
       "    </tr>\n",
       "    <tr>\n",
       "      <th>2</th>\n",
       "      <td>1852</td>\n",
       "      <td>15.006500</td>\n",
       "      <td>0.316417</td>\n",
       "    </tr>\n",
       "    <tr>\n",
       "      <th>3</th>\n",
       "      <td>1853</td>\n",
       "      <td>14.955167</td>\n",
       "      <td>0.283833</td>\n",
       "    </tr>\n",
       "    <tr>\n",
       "      <th>4</th>\n",
       "      <td>1854</td>\n",
       "      <td>14.991000</td>\n",
       "      <td>0.276417</td>\n",
       "    </tr>\n",
       "  </tbody>\n",
       "</table>\n",
       "</div>"
      ],
      "text/plain": [
       "   Year  LandAndOceanAverageTemperature  \\\n",
       "0  1850                       14.867167   \n",
       "1  1851                       14.991833   \n",
       "2  1852                       15.006500   \n",
       "3  1853                       14.955167   \n",
       "4  1854                       14.991000   \n",
       "\n",
       "   LandAndOceanAverageTemperatureUncertainty  \n",
       "0                                   0.308167  \n",
       "1                                   0.312083  \n",
       "2                                   0.316417  \n",
       "3                                   0.283833  \n",
       "4                                   0.276417  "
      ]
     },
     "execution_count": 2,
     "metadata": {},
     "output_type": "execute_result"
    }
   ],
   "source": [
    "# Read Dataset\n",
    "dataset = pd.read_csv(\"../Data/temp_data-AllYears.csv\")\n",
    "dataset.head()"
   ]
  },
  {
   "cell_type": "code",
   "execution_count": 3,
   "id": "05f39448",
   "metadata": {},
   "outputs": [],
   "source": [
    "# Let X = Years & y = LandAndOceanAverageTemperature\n",
    "X = dataset[\"Year\"].values.reshape(-1, 1)\n",
    "y = dataset[\"LandAndOceanAverageTemperature\"].values.reshape(-1, 1)"
   ]
  },
  {
   "cell_type": "code",
   "execution_count": 4,
   "id": "4ffe3231",
   "metadata": {},
   "outputs": [],
   "source": [
    "# Split Train - 80% Train & 20% Test\n",
    "X_train, X_test, y_train, y_test = train_test_split(X, y, test_size = 0.2, random_state = 0)"
   ]
  },
  {
   "cell_type": "code",
   "execution_count": 5,
   "id": "f43485b9",
   "metadata": {},
   "outputs": [
    {
     "data": {
      "text/plain": [
       "LinearRegression()"
      ]
     },
     "execution_count": 5,
     "metadata": {},
     "output_type": "execute_result"
    }
   ],
   "source": [
    "# Train Algorithm Using Linear Regression\n",
    "regressor = LinearRegression()  \n",
    "regressor.fit(X_train, y_train)"
   ]
  },
  {
   "cell_type": "code",
   "execution_count": 6,
   "id": "8bed067a",
   "metadata": {},
   "outputs": [
    {
     "name": "stdout",
     "output_type": "stream",
     "text": [
      "The y intercept is:   [5.03304052]\n",
      "The slope is:   [[0.00527395]]\n"
     ]
    }
   ],
   "source": [
    "# Retrieve Intercept:\n",
    "print(\"The y intercept is:  \", regressor.intercept_)\n",
    "\n",
    "# Retrieve Slope:\n",
    "print(\"The slope is:  \", regressor.coef_)"
   ]
  },
  {
   "cell_type": "code",
   "execution_count": 7,
   "id": "dc2c6251",
   "metadata": {},
   "outputs": [],
   "source": [
    "# Make Predictions\n",
    "y_pred = regressor.predict(X_test)"
   ]
  },
  {
   "cell_type": "code",
   "execution_count": 8,
   "id": "fef598ea",
   "metadata": {},
   "outputs": [
    {
     "data": {
      "text/html": [
       "<div>\n",
       "<style scoped>\n",
       "    .dataframe tbody tr th:only-of-type {\n",
       "        vertical-align: middle;\n",
       "    }\n",
       "\n",
       "    .dataframe tbody tr th {\n",
       "        vertical-align: top;\n",
       "    }\n",
       "\n",
       "    .dataframe thead th {\n",
       "        text-align: right;\n",
       "    }\n",
       "</style>\n",
       "<table border=\"1\" class=\"dataframe\">\n",
       "  <thead>\n",
       "    <tr style=\"text-align: right;\">\n",
       "      <th></th>\n",
       "      <th>Actual</th>\n",
       "      <th>Predicted</th>\n",
       "      <th>Error</th>\n",
       "    </tr>\n",
       "  </thead>\n",
       "  <tbody>\n",
       "    <tr>\n",
       "      <th>0</th>\n",
       "      <td>15.854417</td>\n",
       "      <td>15.649500</td>\n",
       "      <td>-0.204917</td>\n",
       "    </tr>\n",
       "    <tr>\n",
       "      <th>1</th>\n",
       "      <td>15.344167</td>\n",
       "      <td>15.496555</td>\n",
       "      <td>0.152388</td>\n",
       "    </tr>\n",
       "    <tr>\n",
       "      <th>2</th>\n",
       "      <td>15.345000</td>\n",
       "      <td>15.280323</td>\n",
       "      <td>-0.064677</td>\n",
       "    </tr>\n",
       "    <tr>\n",
       "      <th>3</th>\n",
       "      <td>14.954667</td>\n",
       "      <td>15.079913</td>\n",
       "      <td>0.125246</td>\n",
       "    </tr>\n",
       "    <tr>\n",
       "      <th>4</th>\n",
       "      <td>15.600333</td>\n",
       "      <td>15.575664</td>\n",
       "      <td>-0.024669</td>\n",
       "    </tr>\n",
       "    <tr>\n",
       "      <th>5</th>\n",
       "      <td>14.810417</td>\n",
       "      <td>15.074639</td>\n",
       "      <td>0.264222</td>\n",
       "    </tr>\n",
       "    <tr>\n",
       "      <th>6</th>\n",
       "      <td>14.758250</td>\n",
       "      <td>14.826764</td>\n",
       "      <td>0.068514</td>\n",
       "    </tr>\n",
       "    <tr>\n",
       "      <th>7</th>\n",
       "      <td>15.021083</td>\n",
       "      <td>14.816216</td>\n",
       "      <td>-0.204868</td>\n",
       "    </tr>\n",
       "    <tr>\n",
       "      <th>8</th>\n",
       "      <td>15.340667</td>\n",
       "      <td>15.501829</td>\n",
       "      <td>0.161162</td>\n",
       "    </tr>\n",
       "    <tr>\n",
       "      <th>9</th>\n",
       "      <td>14.776000</td>\n",
       "      <td>15.111557</td>\n",
       "      <td>0.335557</td>\n",
       "    </tr>\n",
       "    <tr>\n",
       "      <th>10</th>\n",
       "      <td>15.264667</td>\n",
       "      <td>15.401624</td>\n",
       "      <td>0.136957</td>\n",
       "    </tr>\n",
       "    <tr>\n",
       "      <th>11</th>\n",
       "      <td>15.441583</td>\n",
       "      <td>15.522925</td>\n",
       "      <td>0.081341</td>\n",
       "    </tr>\n",
       "    <tr>\n",
       "      <th>12</th>\n",
       "      <td>15.139500</td>\n",
       "      <td>15.317241</td>\n",
       "      <td>0.177741</td>\n",
       "    </tr>\n",
       "    <tr>\n",
       "      <th>13</th>\n",
       "      <td>15.261167</td>\n",
       "      <td>15.306693</td>\n",
       "      <td>0.045526</td>\n",
       "    </tr>\n",
       "    <tr>\n",
       "      <th>14</th>\n",
       "      <td>15.073333</td>\n",
       "      <td>15.058817</td>\n",
       "      <td>-0.014516</td>\n",
       "    </tr>\n",
       "    <tr>\n",
       "      <th>15</th>\n",
       "      <td>15.598000</td>\n",
       "      <td>15.533473</td>\n",
       "      <td>-0.064527</td>\n",
       "    </tr>\n",
       "    <tr>\n",
       "      <th>16</th>\n",
       "      <td>15.713833</td>\n",
       "      <td>15.565116</td>\n",
       "      <td>-0.148717</td>\n",
       "    </tr>\n",
       "    <tr>\n",
       "      <th>17</th>\n",
       "      <td>15.131083</td>\n",
       "      <td>15.454363</td>\n",
       "      <td>0.323280</td>\n",
       "    </tr>\n",
       "    <tr>\n",
       "      <th>18</th>\n",
       "      <td>14.969000</td>\n",
       "      <td>15.027174</td>\n",
       "      <td>0.058174</td>\n",
       "    </tr>\n",
       "    <tr>\n",
       "      <th>19</th>\n",
       "      <td>15.330750</td>\n",
       "      <td>15.290871</td>\n",
       "      <td>-0.039879</td>\n",
       "    </tr>\n",
       "    <tr>\n",
       "      <th>20</th>\n",
       "      <td>15.238667</td>\n",
       "      <td>15.449089</td>\n",
       "      <td>0.210423</td>\n",
       "    </tr>\n",
       "    <tr>\n",
       "      <th>21</th>\n",
       "      <td>14.963250</td>\n",
       "      <td>14.963886</td>\n",
       "      <td>0.000636</td>\n",
       "    </tr>\n",
       "    <tr>\n",
       "      <th>22</th>\n",
       "      <td>15.031917</td>\n",
       "      <td>15.085187</td>\n",
       "      <td>0.053270</td>\n",
       "    </tr>\n",
       "    <tr>\n",
       "      <th>23</th>\n",
       "      <td>15.292917</td>\n",
       "      <td>15.433268</td>\n",
       "      <td>0.140351</td>\n",
       "    </tr>\n",
       "    <tr>\n",
       "      <th>24</th>\n",
       "      <td>14.909417</td>\n",
       "      <td>14.926969</td>\n",
       "      <td>0.017552</td>\n",
       "    </tr>\n",
       "    <tr>\n",
       "      <th>25</th>\n",
       "      <td>15.826583</td>\n",
       "      <td>15.596760</td>\n",
       "      <td>-0.229823</td>\n",
       "    </tr>\n",
       "    <tr>\n",
       "      <th>26</th>\n",
       "      <td>15.106000</td>\n",
       "      <td>15.348884</td>\n",
       "      <td>0.242884</td>\n",
       "    </tr>\n",
       "    <tr>\n",
       "      <th>27</th>\n",
       "      <td>14.881500</td>\n",
       "      <td>14.832037</td>\n",
       "      <td>-0.049463</td>\n",
       "    </tr>\n",
       "    <tr>\n",
       "      <th>28</th>\n",
       "      <td>15.027833</td>\n",
       "      <td>15.174844</td>\n",
       "      <td>0.147011</td>\n",
       "    </tr>\n",
       "    <tr>\n",
       "      <th>29</th>\n",
       "      <td>14.816000</td>\n",
       "      <td>14.984982</td>\n",
       "      <td>0.168982</td>\n",
       "    </tr>\n",
       "    <tr>\n",
       "      <th>30</th>\n",
       "      <td>14.914750</td>\n",
       "      <td>15.021900</td>\n",
       "      <td>0.107150</td>\n",
       "    </tr>\n",
       "    <tr>\n",
       "      <th>31</th>\n",
       "      <td>15.262750</td>\n",
       "      <td>15.296145</td>\n",
       "      <td>0.033395</td>\n",
       "    </tr>\n",
       "    <tr>\n",
       "      <th>32</th>\n",
       "      <td>15.829167</td>\n",
       "      <td>15.591486</td>\n",
       "      <td>-0.237681</td>\n",
       "    </tr>\n",
       "    <tr>\n",
       "      <th>33</th>\n",
       "      <td>14.819083</td>\n",
       "      <td>15.106283</td>\n",
       "      <td>0.287199</td>\n",
       "    </tr>\n",
       "  </tbody>\n",
       "</table>\n",
       "</div>"
      ],
      "text/plain": [
       "       Actual  Predicted     Error\n",
       "0   15.854417  15.649500 -0.204917\n",
       "1   15.344167  15.496555  0.152388\n",
       "2   15.345000  15.280323 -0.064677\n",
       "3   14.954667  15.079913  0.125246\n",
       "4   15.600333  15.575664 -0.024669\n",
       "5   14.810417  15.074639  0.264222\n",
       "6   14.758250  14.826764  0.068514\n",
       "7   15.021083  14.816216 -0.204868\n",
       "8   15.340667  15.501829  0.161162\n",
       "9   14.776000  15.111557  0.335557\n",
       "10  15.264667  15.401624  0.136957\n",
       "11  15.441583  15.522925  0.081341\n",
       "12  15.139500  15.317241  0.177741\n",
       "13  15.261167  15.306693  0.045526\n",
       "14  15.073333  15.058817 -0.014516\n",
       "15  15.598000  15.533473 -0.064527\n",
       "16  15.713833  15.565116 -0.148717\n",
       "17  15.131083  15.454363  0.323280\n",
       "18  14.969000  15.027174  0.058174\n",
       "19  15.330750  15.290871 -0.039879\n",
       "20  15.238667  15.449089  0.210423\n",
       "21  14.963250  14.963886  0.000636\n",
       "22  15.031917  15.085187  0.053270\n",
       "23  15.292917  15.433268  0.140351\n",
       "24  14.909417  14.926969  0.017552\n",
       "25  15.826583  15.596760 -0.229823\n",
       "26  15.106000  15.348884  0.242884\n",
       "27  14.881500  14.832037 -0.049463\n",
       "28  15.027833  15.174844  0.147011\n",
       "29  14.816000  14.984982  0.168982\n",
       "30  14.914750  15.021900  0.107150\n",
       "31  15.262750  15.296145  0.033395\n",
       "32  15.829167  15.591486 -0.237681\n",
       "33  14.819083  15.106283  0.287199"
      ]
     },
     "execution_count": 8,
     "metadata": {},
     "output_type": "execute_result"
    }
   ],
   "source": [
    "# Compare Actual To Predicted\n",
    "actual_predicted_df = pd.DataFrame({\"Actual\" : y_test.flatten(), \"Predicted\" : y_pred.flatten(), \"Error\" : y_pred.flatten() - y_test.flatten()})\n",
    "actual_predicted_df"
   ]
  },
  {
   "cell_type": "code",
   "execution_count": 9,
   "id": "b7c6215d",
   "metadata": {},
   "outputs": [
    {
     "data": {
      "image/png": "[encoded data removed]",
      "text/plain": [
       "<Figure size 1600x1000 with 1 Axes>"
      ]
     },
     "metadata": {},
     "output_type": "display_data"
    }
   ],
   "source": [
    "# Create Bar Chart\n",
    "actual_predicted_df = actual_predicted_df.head(23)\n",
    "actual_predicted_df.plot(kind = \"bar\", figsize = (16, 10))\n",
    "plt.grid(which = \"major\", linestyle = \"-\", linewidth = \"0.5\", color = \"green\")\n",
    "plt.grid(which = \"minor\", linestyle = \":\", linewidth = \"0.5\", color = \"black\")\n",
    "plt.show()"
   ]
  },
  {
   "cell_type": "code",
   "execution_count": 10,
   "id": "c9f9add5",
   "metadata": {},
   "outputs": [
    {
     "data": {
      "image/png": "[encoded data removed]",
      "text/plain": [
       "<Figure size 640x480 with 1 Axes>"
      ]
     },
     "metadata": {},
     "output_type": "display_data"
    }
   ],
   "source": [
    "# Plot Straight Line With Test Data\n",
    "plt.scatter(X_test, y_test,  color = \"gray\")\n",
    "plt.plot(X_test, y_pred, color = \"red\", linewidth = 2)\n",
    "plt.xlabel(\"Year\")\n",
    "plt.ylabel(\"Temperature (Celsius)\")\n",
    "plt.title(\"Scatter Plot of Global Average Temperature over Time \\n\")\n",
    "fig1 = plt.gcf()\n",
    "fig1.savefig(\"../Images/YearToTempScatter.png\", bbox_inches = \"tight\")"
   ]
  },
  {
   "cell_type": "code",
   "execution_count": 11,
   "id": "ead4ee15",
   "metadata": {},
   "outputs": [
    {
     "name": "stdout",
     "output_type": "stream",
     "text": [
      "Mean Absolute Error: 0.13596173454789284\n",
      "Mean Squared Error: 0.02702573048687734\n",
      "Root Mean Squared Error: 0.1643950439851437\n"
     ]
    }
   ],
   "source": [
    "# Calculate Margin Of Error\n",
    "print(\"Mean Absolute Error:\", metrics.mean_absolute_error(y_test, y_pred))  \n",
    "print(\"Mean Squared Error:\", metrics.mean_squared_error(y_test, y_pred))  \n",
    "print(\"Root Mean Squared Error:\", np.sqrt(metrics.mean_squared_error(y_test, y_pred)))"
   ]
  },
  {
   "cell_type": "code",
   "execution_count": 12,
   "id": "29ec6656",
   "metadata": {},
   "outputs": [
    {
     "name": "stdout",
     "output_type": "stream",
     "text": [
      "Min/Max X Values (Year) 1850 2015\n"
     ]
    }
   ],
   "source": [
    "x_min = X.min()\n",
    "x_max = X.max()\n",
    "print(\"Min/Max X Values (Year)\", x_min, x_max)"
   ]
  },
  {
   "cell_type": "code",
   "execution_count": 13,
   "id": "86005bec",
   "metadata": {},
   "outputs": [
    {
     "name": "stdout",
     "output_type": "stream",
     "text": [
      "Min/Max Y Values (Temperature) 14.740083333333333 16.058583333333335\n"
     ]
    }
   ],
   "source": [
    "# Get y (Temperature Min/Max Actuals)\n",
    "y_min_actual = y.min()\n",
    "y_max_actual = y.max()\n",
    "print(\"Min/Max Y Values (Temperature)\", y_min_actual, y_max_actual)"
   ]
  },
  {
   "cell_type": "code",
   "execution_count": 14,
   "id": "5ccdd1e9",
   "metadata": {},
   "outputs": [
    {
     "name": "stdout",
     "output_type": "stream",
     "text": [
      "Actual Min Value: 14.740083333333333\n",
      "Calculated Min Value: 13.038924169999994\n",
      "Actual Max Value: 16.058583333333335\n",
      "Calculated Max Value: 15.952543669999997\n"
     ]
    }
   ],
   "source": [
    "# Y-Intercept = 5.03304052 & Slope = 0.00527395\n",
    "y_min = 5.03304052 + 0.00527395 * x_min\n",
    "y_max = 5.03304052 + 0.00527395 * x_max\n",
    "print(f\"Actual Min Value: {y_min_actual}\")\n",
    "print(f\"Calculated Min Value: {y_min}\")\n",
    "print(f\"Actual Max Value: {y_max_actual}\")\n",
    "print(f\"Calculated Max Value: {y_max}\")"
   ]
  },
  {
   "cell_type": "code",
   "execution_count": 15,
   "id": "cbc57ea3",
   "metadata": {},
   "outputs": [
    {
     "name": "stdout",
     "output_type": "stream",
     "text": [
      "Actual Min Value: 14.740083333333333\n",
      "Predicted Min Value: [[14.78984586]]\n",
      "Actual Max Value: 16.058583333333335\n",
      "Predicted Max Value: [[15.66004742]]\n"
     ]
    }
   ],
   "source": [
    "# Predict Calculated Values\n",
    "y_min_predicted = regressor.predict([[x_min]])\n",
    "y_max_predicted = regressor.predict([[x_max]])\n",
    "print(f\"Actual Min Value: {y_min_actual}\")\n",
    "print(f\"Predicted Min Value: {y_min_predicted}\")\n",
    "print(f\"Actual Max Value: {y_max_actual}\")\n",
    "print(f\"Predicted Max Value: {y_max_predicted}\")"
   ]
  },
  {
   "cell_type": "code",
   "execution_count": 16,
   "id": "e6d0f722",
   "metadata": {},
   "outputs": [
    {
     "data": {
      "image/png": "[encoded data removed]",
      "text/plain": [
       "<Figure size 640x480 with 1 Axes>"
      ]
     },
     "metadata": {},
     "output_type": "display_data"
    }
   ],
   "source": [
    "# Plot\n",
    "plt.scatter(X, y, c = \"blue\")\n",
    "plt.plot([x_min, x_max], [y_min, y_max], c = \"red\")\n",
    "plt.xticks(rotation = 45)\n",
    "plt.xlabel(\"Year\")\n",
    "plt.ylabel(\"Temperature (Celsius)\")\n",
    "plt.title(\"Linear Regression Of Global Average Temperature OverTime \\n\")\n",
    "fig2 = plt.gcf()\n",
    "fig2.savefig(\"../Images/YearToTempCorrelation.png\", bbox_inches = \"tight\")"
   ]
  },
  {
   "cell_type": "markdown",
   "id": "15e05a92",
   "metadata": {},
   "source": [
    "## Plugging In The Numbers:\n",
    "### Average Global Temperature  =  Slope  *  CO2  +  Y-Intercept\n",
    "### Slope = 0.00527395\n",
    "### Y-Intercept = 5.03304052\n",
    "### Global Temp. Above 1.5 Degrees C From 1850 Average Global Temperature = 16.37\n",
    "### Population = (16.37 - 5.03304052)/0.00527395\n",
    "### CO2 = 2,149.61451663\n",
    "### Mean Squared Error: 0.02702573048687734"
   ]
  }
 ],
 "metadata": {
  "kernelspec": {
   "display_name": "Python 3 (ipykernel)",
   "language": "python",
   "name": "python3"
  },
  "language_info": {
   "codemirror_mode": {
    "name": "ipython",
    "version": 3
   },
   "file_extension": ".py",
   "mimetype": "text/x-python",
   "name": "python",
   "nbconvert_exporter": "python",
   "pygments_lexer": "ipython3",
   "version": "3.9.13"
  }
 },
 "nbformat": 4,
 "nbformat_minor": 5
}
