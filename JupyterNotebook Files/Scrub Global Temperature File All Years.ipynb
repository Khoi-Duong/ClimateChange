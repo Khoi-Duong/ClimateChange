{
 "cells": [
  {
   "cell_type": "markdown",
   "id": "8ef961cd",
   "metadata": {},
   "source": [
    "# Scrub Global Temperature File All Years\n",
    "### Note: Temperatures are in Celsius"
   ]
  },
  {
   "cell_type": "code",
   "execution_count": null,
   "id": "d2b2d4ac",
   "metadata": {},
   "outputs": [],
   "source": [
    "# Necessary Imports\n",
    "import pandas as pd\n",
    "import numpy as np\n",
    "import matplotlib.pyplot as plt  # To visualize\n",
    "from sklearn.linear_model import LinearRegression"
   ]
  },
  {
   "cell_type": "code",
   "execution_count": null,
   "id": "407c0df9",
   "metadata": {},
   "outputs": [],
   "source": [
    "# File to Load\n",
    "temp_data = \"../Data/GlobalTemperatures.csv\"\n",
    "\n",
    "# Read Temperature Data\n",
    "temp_data_df = pd.read_csv(temp_data)\n",
    "\n",
    "temp_data_df.head()"
   ]
  },
  {
   "cell_type": "code",
   "execution_count": null,
   "id": "d0953a38",
   "metadata": {},
   "outputs": [],
   "source": [
    "# Create Dataset with Columns \"dt\", \"LandAndOceanAverageTemperature\", And \"LandAndOceanAverageTemperatureUncertainty\"\n",
    "temp_data_df = temp_data_df[[\"dt\", \"LandAndOceanAverageTemperature\", \"LandAndOceanAverageTemperatureUncertainty\"]]\n",
    "\n",
    "# Drop rows with NaN\n",
    "temp_data_df = temp_data_df.dropna()\n",
    "temp_data_df.head()"
   ]
  },
  {
   "cell_type": "code",
   "execution_count": null,
   "id": "77e53a1b",
   "metadata": {},
   "outputs": [],
   "source": [
    "# Disable the SettingWithCopyWarning warning\n",
    "pd.options.mode.chained_assignment = None\n",
    "\n",
    "# Create a Year Column\n",
    "temp_data_df[\"Year\"] = temp_data_2[\"dt\"].str[:4]\n",
    "\n",
    "# Convert dt to datetime format\n",
    "temp_data_df[\"dt\"] = pd.to_datetime(temp_data_2[\"dt\"])\n",
    "temp_data_df.head()"
   ]
  },
  {
   "cell_type": "code",
   "execution_count": null,
   "id": "916d7635",
   "metadata": {},
   "outputs": [],
   "source": [
    "# Group by Year and get average of both numerical columns\n",
    "temp_data_df = temp_data_df.groupby(\"Year\").mean().reset_index()\n",
    "temp_data_df\n",
    "\n",
    "# Save Data To CSV File\n",
    "temp_data_df.to_csv(r\"../Data/temp_data-AllYears.csv\", index = False, header = True)"
   ]
  },
  {
   "cell_type": "code",
   "execution_count": null,
   "id": "f2c015dd",
   "metadata": {},
   "outputs": [],
   "source": [
    "# Convert Values Into Array\n",
    "X = temp_data_df.iloc[:, 1].values.reshape(-1, 1)\n",
    "\n",
    "# Calculate Dimension Of Rows\n",
    "Y = temp_data_df.iloc[:, 2].values.reshape(-1, 1)\n",
    "\n",
    "# Create Object For Class\n",
    "linear_regressor = LinearRegression()\n",
    "\n",
    "# Perform Linear Regression\n",
    "linear_regressor.fit(X, Y)\n",
    "\n",
    "# Make Predictions\n",
    "Y_pred = linear_regressor.predict(X)"
   ]
  },
  {
   "cell_type": "code",
   "execution_count": null,
   "id": "275f2da8",
   "metadata": {},
   "outputs": [],
   "source": [
    "#Plot \n",
    "plt.scatter(X, Y)\n",
    "plt.plot(X, Y_pred, color = \"red\")\n",
    "plt.xlabel(\"Average Annual Temperature (C)\"\")\n",
    "plt.ylabel(\"Temperature Uncertainty %\")\n",
    "plt.title(\"Global Temperature vs Uncertainty\")\n",
    "fig1 = plt.gcf()\n",
    "fig1.savefig(\"../images/TempToUncertaintyscatter.png\", bbox_inches = \"tight\")"
   ]
  },
  {
   "cell_type": "code",
   "execution_count": null,
   "id": "7da3d696",
   "metadata": {},
   "outputs": [],
   "source": []
  }
 ],
 "metadata": {
  "kernelspec": {
   "display_name": "Python 3 (ipykernel)",
   "language": "python",
   "name": "python3"
  },
  "language_info": {
   "codemirror_mode": {
    "name": "ipython",
    "version": 3
   },
   "file_extension": ".py",
   "mimetype": "text/x-python",
   "name": "python",
   "nbconvert_exporter": "python",
   "pygments_lexer": "ipython3",
   "version": "3.9.13"
  }
 },
 "nbformat": 4,
 "nbformat_minor": 5
}
