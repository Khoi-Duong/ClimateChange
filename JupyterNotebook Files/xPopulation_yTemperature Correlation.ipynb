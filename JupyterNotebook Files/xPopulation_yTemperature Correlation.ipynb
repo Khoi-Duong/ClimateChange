{
 "cells": [
  {
   "cell_type": "code",
   "execution_count": 1,
   "id": "d4e33aa1",
   "metadata": {},
   "outputs": [],
   "source": [
    "# Necessary Imports\n",
    "%matplotlib inline\n",
    "\n",
    "import pandas as pd\n",
    "import numpy as np  \n",
    "import matplotlib.pyplot as plt  \n",
    "import seaborn as seabornInstance \n",
    "from sklearn.model_selection import train_test_split \n",
    "from sklearn.linear_model import LinearRegression\n",
    "from sklearn import metrics"
   ]
  },
  {
   "cell_type": "code",
   "execution_count": 2,
   "id": "b82a6912",
   "metadata": {},
   "outputs": [
    {
     "data": {
      "text/html": [
       "<div>\n",
       "<style scoped>\n",
       "    .dataframe tbody tr th:only-of-type {\n",
       "        vertical-align: middle;\n",
       "    }\n",
       "\n",
       "    .dataframe tbody tr th {\n",
       "        vertical-align: top;\n",
       "    }\n",
       "\n",
       "    .dataframe thead th {\n",
       "        text-align: right;\n",
       "    }\n",
       "</style>\n",
       "<table border=\"1\" class=\"dataframe\">\n",
       "  <thead>\n",
       "    <tr style=\"text-align: right;\">\n",
       "      <th></th>\n",
       "      <th>Year</th>\n",
       "      <th>LandAndOceanAverageTemperature</th>\n",
       "      <th>LandAndOceanAverageTemperatureUncertainty</th>\n",
       "      <th>population_millions</th>\n",
       "      <th>GMSL</th>\n",
       "      <th>CO2_concentration_per_million</th>\n",
       "    </tr>\n",
       "  </thead>\n",
       "  <tbody>\n",
       "    <tr>\n",
       "      <th>0</th>\n",
       "      <td>1993</td>\n",
       "      <td>15.466417</td>\n",
       "      <td>0.059167</td>\n",
       "      <td>5581597.598</td>\n",
       "      <td>90.471622</td>\n",
       "      <td>869.636645</td>\n",
       "    </tr>\n",
       "    <tr>\n",
       "      <th>1</th>\n",
       "      <td>1994</td>\n",
       "      <td>15.535000</td>\n",
       "      <td>0.058583</td>\n",
       "      <td>5663150.428</td>\n",
       "      <td>89.516216</td>\n",
       "      <td>863.100924</td>\n",
       "    </tr>\n",
       "    <tr>\n",
       "      <th>2</th>\n",
       "      <td>1995</td>\n",
       "      <td>15.637833</td>\n",
       "      <td>0.060417</td>\n",
       "      <td>5744212.930</td>\n",
       "      <td>87.334722</td>\n",
       "      <td>858.225479</td>\n",
       "    </tr>\n",
       "    <tr>\n",
       "      <th>3</th>\n",
       "      <td>1996</td>\n",
       "      <td>15.524667</td>\n",
       "      <td>0.059500</td>\n",
       "      <td>5824891.931</td>\n",
       "      <td>85.473243</td>\n",
       "      <td>859.062572</td>\n",
       "    </tr>\n",
       "    <tr>\n",
       "      <th>4</th>\n",
       "      <td>1997</td>\n",
       "      <td>15.713833</td>\n",
       "      <td>0.059167</td>\n",
       "      <td>5905045.647</td>\n",
       "      <td>99.442432</td>\n",
       "      <td>867.379574</td>\n",
       "    </tr>\n",
       "  </tbody>\n",
       "</table>\n",
       "</div>"
      ],
      "text/plain": [
       "   Year  LandAndOceanAverageTemperature  \\\n",
       "0  1993                       15.466417   \n",
       "1  1994                       15.535000   \n",
       "2  1995                       15.637833   \n",
       "3  1996                       15.524667   \n",
       "4  1997                       15.713833   \n",
       "\n",
       "   LandAndOceanAverageTemperatureUncertainty  population_millions       GMSL  \\\n",
       "0                                   0.059167          5581597.598  90.471622   \n",
       "1                                   0.058583          5663150.428  89.516216   \n",
       "2                                   0.060417          5744212.930  87.334722   \n",
       "3                                   0.059500          5824891.931  85.473243   \n",
       "4                                   0.059167          5905045.647  99.442432   \n",
       "\n",
       "   CO2_concentration_per_million  \n",
       "0                     869.636645  \n",
       "1                     863.100924  \n",
       "2                     858.225479  \n",
       "3                     859.062572  \n",
       "4                     867.379574  "
      ]
     },
     "execution_count": 2,
     "metadata": {},
     "output_type": "execute_result"
    }
   ],
   "source": [
    "# Read Dataset\n",
    "dataset = pd.read_csv(\"../Data/combinedclimatedata.csv\")\n",
    "dataset = dataset.drop([\"Unnamed: 0\"], axis = 1)\n",
    "dataset.head()"
   ]
  },
  {
   "cell_type": "code",
   "execution_count": 3,
   "id": "0f256141",
   "metadata": {},
   "outputs": [],
   "source": [
    "# Let X = Population & y = LandAndOceanAverageTemperature\n",
    "X = dataset[\"population_millions\"].values.reshape(-1, 1)\n",
    "y = dataset[\"LandAndOceanAverageTemperature\"].values.reshape(-1, 1)"
   ]
  },
  {
   "cell_type": "code",
   "execution_count": 4,
   "id": "5981d187",
   "metadata": {},
   "outputs": [],
   "source": [
    "# Split Train - 80% Train & 20% Test\n",
    "X_train, X_test, y_train, y_test = train_test_split(X, y, test_size = 0.2, random_state = 0)"
   ]
  },
  {
   "cell_type": "code",
   "execution_count": 5,
   "id": "e1c1432c",
   "metadata": {},
   "outputs": [
    {
     "data": {
      "text/plain": [
       "LinearRegression()"
      ]
     },
     "execution_count": 5,
     "metadata": {},
     "output_type": "execute_result"
    }
   ],
   "source": [
    "# Train Algorithm Using Linear Regression\n",
    "regressor = LinearRegression()  \n",
    "regressor.fit(X_train, y_train)"
   ]
  },
  {
   "cell_type": "code",
   "execution_count": 6,
   "id": "db11d465",
   "metadata": {},
   "outputs": [
    {
     "name": "stdout",
     "output_type": "stream",
     "text": [
      "The y intercept is:   [14.35225079]\n",
      "The slope is:   [[2.1729278e-07]]\n"
     ]
    }
   ],
   "source": [
    "# Retrieve Intercept:\n",
    "print(\"The y intercept is:  \", regressor.intercept_)\n",
    "\n",
    "# Retrieve Slope:\n",
    "print(\"The slope is:  \", regressor.coef_)"
   ]
  },
  {
   "cell_type": "code",
   "execution_count": 7,
   "id": "64b862e6",
   "metadata": {},
   "outputs": [],
   "source": [
    "# Make Predictions\n",
    "y_pred = regressor.predict(X_test)"
   ]
  },
  {
   "cell_type": "code",
   "execution_count": 8,
   "id": "db73578b",
   "metadata": {},
   "outputs": [
    {
     "data": {
      "text/html": [
       "<div>\n",
       "<style scoped>\n",
       "    .dataframe tbody tr th:only-of-type {\n",
       "        vertical-align: middle;\n",
       "    }\n",
       "\n",
       "    .dataframe tbody tr th {\n",
       "        vertical-align: top;\n",
       "    }\n",
       "\n",
       "    .dataframe thead th {\n",
       "        text-align: right;\n",
       "    }\n",
       "</style>\n",
       "<table border=\"1\" class=\"dataframe\">\n",
       "  <thead>\n",
       "    <tr style=\"text-align: right;\">\n",
       "      <th></th>\n",
       "      <th>Actual</th>\n",
       "      <th>Predicted</th>\n",
       "      <th>Error</th>\n",
       "    </tr>\n",
       "  </thead>\n",
       "  <tbody>\n",
       "    <tr>\n",
       "      <th>0</th>\n",
       "      <td>15.757250</td>\n",
       "      <td>15.756214</td>\n",
       "      <td>-0.001036</td>\n",
       "    </tr>\n",
       "    <tr>\n",
       "      <th>1</th>\n",
       "      <td>15.826583</td>\n",
       "      <td>15.738836</td>\n",
       "      <td>-0.087747</td>\n",
       "    </tr>\n",
       "    <tr>\n",
       "      <th>2</th>\n",
       "      <td>15.913000</td>\n",
       "      <td>15.937465</td>\n",
       "      <td>0.024465</td>\n",
       "    </tr>\n",
       "    <tr>\n",
       "      <th>3</th>\n",
       "      <td>15.827333</td>\n",
       "      <td>15.809405</td>\n",
       "      <td>-0.017929</td>\n",
       "    </tr>\n",
       "    <tr>\n",
       "      <th>4</th>\n",
       "      <td>15.854417</td>\n",
       "      <td>15.919058</td>\n",
       "      <td>0.064642</td>\n",
       "    </tr>\n",
       "  </tbody>\n",
       "</table>\n",
       "</div>"
      ],
      "text/plain": [
       "      Actual  Predicted     Error\n",
       "0  15.757250  15.756214 -0.001036\n",
       "1  15.826583  15.738836 -0.087747\n",
       "2  15.913000  15.937465  0.024465\n",
       "3  15.827333  15.809405 -0.017929\n",
       "4  15.854417  15.919058  0.064642"
      ]
     },
     "execution_count": 8,
     "metadata": {},
     "output_type": "execute_result"
    }
   ],
   "source": [
    "# Compare Actual To Predicted\n",
    "actual_predicted_df = pd.DataFrame({\"Actual\" : y_test.flatten(), \"Predicted\" : y_pred.flatten(), \"Error\" : y_pred.flatten() - y_test.flatten()})\n",
    "actual_predicted_df"
   ]
  },
  {
   "cell_type": "code",
   "execution_count": 9,
   "id": "f2c97a10",
   "metadata": {},
   "outputs": [
    {
     "data": {
      "image/png": "[encoded data removed]",
      "text/plain": [
       "<Figure size 1600x1000 with 1 Axes>"
      ]
     },
     "metadata": {},
     "output_type": "display_data"
    }
   ],
   "source": [
    "# Create Bar Chart\n",
    "actual_predicted_df = actual_predicted_df.head(23)\n",
    "actual_predicted_df.plot(kind = \"bar\", figsize = (16, 10))\n",
    "plt.grid(which = \"major\", linestyle = \"-\", linewidth = \"0.5\", color = \"green\")\n",
    "plt.grid(which = \"minor\", linestyle = \":\", linewidth = \"0.5\", color = \"black\")\n",
    "plt.show()"
   ]
  },
  {
   "cell_type": "code",
   "execution_count": 10,
   "id": "d488ff07",
   "metadata": {},
   "outputs": [
    {
     "data": {
      "image/png": "[encoded data removed]",
      "text/plain": [
       "<Figure size 640x480 with 1 Axes>"
      ]
     },
     "metadata": {},
     "output_type": "display_data"
    }
   ],
   "source": [
    "# Plot Straight Line With Test Data\n",
    "plt.scatter(X_test, y_test,  color = \"gray\")\n",
    "plt.plot(X_test, y_pred, color = \"red\", linewidth = 2)\n",
    "plt.show()"
   ]
  },
  {
   "cell_type": "code",
   "execution_count": 11,
   "id": "0d77d3b5",
   "metadata": {},
   "outputs": [
    {
     "name": "stdout",
     "output_type": "stream",
     "text": [
      "Mean Absolute Error: 0.03916362092268386\n",
      "Mean Squared Error: 0.0025598238844166733\n",
      "Root Mean Squared Error: 0.050594702137839224\n"
     ]
    }
   ],
   "source": [
    "# Calculate Margin Of Error\n",
    "print(\"Mean Absolute Error:\", metrics.mean_absolute_error(y_test, y_pred))  \n",
    "print(\"Mean Squared Error:\", metrics.mean_squared_error(y_test, y_pred))  \n",
    "print(\"Root Mean Squared Error:\", np.sqrt(metrics.mean_squared_error(y_test, y_pred)))"
   ]
  },
  {
   "cell_type": "code",
   "execution_count": 12,
   "id": "46ffa0bd",
   "metadata": {},
   "outputs": [
    {
     "name": "stdout",
     "output_type": "stream",
     "text": [
      "Min/Max X values (Population) 5581597.597999998 7379796.967\n"
     ]
    }
   ],
   "source": [
    "x_min = X.min()\n",
    "x_max = X.max()\n",
    "print(\"Min/Max X Values (Population)\", x_min, x_max)"
   ]
  },
  {
   "cell_type": "code",
   "execution_count": 13,
   "id": "3a413da5",
   "metadata": {},
   "outputs": [
    {
     "name": "stdout",
     "output_type": "stream",
     "text": [
      "Min/Max Y Values (Temperature) 15.466416666666667 16.058583333333335\n"
     ]
    }
   ],
   "source": [
    "# Get y (Temperature Min/Max Actuals)\n",
    "y_min_actual = y.min()\n",
    "y_max_actual = y.max()\n",
    "print(\"Min/Max Y Values (Temperature)\", y_min_actual, y_max_actual)"
   ]
  },
  {
   "cell_type": "code",
   "execution_count": 14,
   "id": "2ae5d133",
   "metadata": {},
   "outputs": [
    {
     "name": "stdout",
     "output_type": "stream",
     "text": [
      "Actual Min Value: 15.466416666666667\n",
      "Calculated Min Value: 15.565091648910741\n",
      "Actual Max Value: 16.058583333333335\n",
      "Calculated Max Value: 15.955827388794997\n"
     ]
    }
   ],
   "source": [
    "# Y-Intercept = 14.35225079 & Slope = 2.1729278e-07\n",
    "y_min = 14.35225079 + 2.1729278e-07 * x_min\n",
    "y_max = 14.35225079 + 2.1729278e-07 * x_max\n",
    "print(f\"Actual Min Value: {y_min_actual}\")\n",
    "print(f\"Calculated Min Value: {y_min}\")\n",
    "print(f\"Actual Max Value: {y_max_actual}\")\n",
    "print(f\"Calculated Max Value: {y_max}\")"
   ]
  },
  {
   "cell_type": "code",
   "execution_count": 15,
   "id": "9c43692f",
   "metadata": {},
   "outputs": [
    {
     "name": "stdout",
     "output_type": "stream",
     "text": [
      "Actual Min Value: 15.466416666666667\n",
      "Predicted Min Value: [[15.56509165]]\n",
      "Actual Max Value: 16.058583333333335\n",
      "Predicted Max Value: [[15.95582739]]\n"
     ]
    }
   ],
   "source": [
    "# Predict Calculated Values\n",
    "y_min_predicted = regressor.predict([[x_min]])\n",
    "y_max_predicted = regressor.predict([[x_max]])\n",
    "print(f\"Actual Min Value: {y_min_actual}\")\n",
    "print(f\"Predicted Min Value: {y_min_predicted}\")\n",
    "print(f\"Actual Max Value: {y_max_actual}\")\n",
    "print(f\"Predicted Max Value: {y_max_predicted}\")"
   ]
  },
  {
   "cell_type": "code",
   "execution_count": 16,
   "id": "b30502a2",
   "metadata": {},
   "outputs": [
    {
     "data": {
      "image/png": "[encoded data removed]",
      "text/plain": [
       "<Figure size 640x480 with 1 Axes>"
      ]
     },
     "metadata": {},
     "output_type": "display_data"
    }
   ],
   "source": [
    "# Plot\n",
    "plt.scatter(X, y, c = \"blue\")\n",
    "plt.plot([x_min, x_max], [y_min, y_max], c = \"red\")\n",
    "plt.xticks(rotation = 45)\n",
    "plt.xlabel(\"Population (Millions)\")\n",
    "plt.ylabel(\"Temperature (Celsius)\")\n",
    "plt.title(\"Global Population to Global Average Temperature\\n\")\n",
    "fig1 = plt.gcf()\n",
    "fig1.savefig(\"../Images/PopToTemp.png\", bbox_inches = \"tight\")"
   ]
  },
  {
   "cell_type": "markdown",
   "id": "e7e58300",
   "metadata": {},
   "source": [
    "## Plugging in the Numbers:\n",
    "### Average Global Temperature  =  slope  *  CO2  +  y-intercept\n",
    "### Slope = 2.1729278e-07\n",
    "### Y-Yntercept = 14.35225079\n",
    "### Global Temp. Above 1.5 Degrees C From 1850 Average Global Temperature = 16.37\n",
    "### Population = (16.37 - 14.35225079)/0.00000021729278\n",
    "### CO2 = 9,285,854.826884\n",
    "### Mean Squared Error: 0.0025598238844166733"
   ]
  }
 ],
 "metadata": {
  "kernelspec": {
   "display_name": "Python 3 (ipykernel)",
   "language": "python",
   "name": "python3"
  },
  "language_info": {
   "codemirror_mode": {
    "name": "ipython",
    "version": 3
   },
   "file_extension": ".py",
   "mimetype": "text/x-python",
   "name": "python",
   "nbconvert_exporter": "python",
   "pygments_lexer": "ipython3",
   "version": "3.9.13"
  }
 },
 "nbformat": 4,
 "nbformat_minor": 5
}
